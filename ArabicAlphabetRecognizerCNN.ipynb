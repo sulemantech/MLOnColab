{
  "nbformat": 4,
  "nbformat_minor": 0,
  "metadata": {
    "colab": {
      "provenance": [],
      "authorship_tag": "ABX9TyNEdUXL+1H+3fUm84bGCGr/",
      "include_colab_link": true
    },
    "kernelspec": {
      "name": "python3",
      "display_name": "Python 3"
    },
    "language_info": {
      "name": "python"
    }
  },
  "cells": [
    {
      "cell_type": "markdown",
      "metadata": {
        "id": "view-in-github",
        "colab_type": "text"
      },
      "source": [
        "<a href=\"https://colab.research.google.com/github/sulemantech/12v12/blob/master/ArabicAlphabetRecognizerCNN.ipynb\" target=\"_parent\"><img src=\"https://colab.research.google.com/assets/colab-badge.svg\" alt=\"Open In Colab\"/></a>"
      ]
    },
    {
      "cell_type": "code",
      "execution_count": 18,
      "metadata": {
        "colab": {
          "base_uri": "https://localhost:8080/"
        },
        "id": "DjJhgRxf5Q5I",
        "outputId": "119e3fda-760e-4208-c48f-b00e2983d234"
      },
      "outputs": [
        {
          "output_type": "stream",
          "name": "stdout",
          "text": [
            "Mounted at /content/drive\n"
          ]
        }
      ],
      "source": [
        "# Importer la bibliothèque \"drive\" de Google Colab\n",
        "from google.colab import drive\n",
        "\n",
        "# Monter le lecteur Google Drive sur le système de fichiers de Colab\n",
        "drive.mount('/content/drive')\n",
        "\n",
        "# Une fois que la commande ci-dessus est exécutée, un lien est généré\n",
        "# permettant d'accéder au compte Google Drive. Ce lien doit être suivi,\n",
        "# une autorisation doit être accordée et le code de vérification doit être copié.\n",
        "# Ce code de vérification doit ensuite être collé dans la zone de saisie qui apparaît\n",
        "# dans la sortie de la commande ci-dessus. Cela permet de monter le lecteur Google Drive\n",
        "# sur le système de fichiers de Colab, en créant un lien symbolique vers le dossier \"My Drive\"\n",
        "# du compte Google Drive de l'utilisateur.\n",
        "\n",
        "# Le chemin d'accès \"/content/drive\" peut maintenant être utilisé pour accéder\n",
        "# aux fichiers du lecteur Google Drive monté.\n",
        ""
      ]
    },
    {
      "cell_type": "code",
      "source": [
        "# Importer la bibliothèque \"pandas\" pour lire les fichiers CSV contenant les données\n",
        "import pandas as pd\n",
        "\n",
        "import numpy as np\n",
        "import random\n",
        "import tensorflow as tf\n",
        "from tensorflow import keras\n",
        "from tensorflow.keras.utils import to_categorical\n",
        "from sklearn.model_selection import train_test_split\n",
        "import matplotlib.pyplot as plt\n",
        "%matplotlib inline\n",
        ""
      ],
      "metadata": {
        "id": "dE-gqVOq7A6n"
      },
      "execution_count": 19,
      "outputs": []
    },
    {
      "cell_type": "code",
      "source": [
        "\n",
        "arabic_characters = ['alif', 'bae', 'tae', 'thae', 'jim', 'hae', 'khaa', 'dal', 'dhal',\n",
        "                    'rae', 'zain', 'sin', 'chin', 'sad', 'dad', 'tae', 'zain', 'aain',\n",
        "                    'ghain', 'fae', 'qaf', 'kaf', 'lam', 'mim', 'noun', 'hae', 'waw', 'yae']\n",
        "# arabic_characters= list('ابتثجحخدذرزسشصضطظعغفقكلمنهوي')\n",
        "len(arabic_characters)\n",
        ""
      ],
      "metadata": {
        "colab": {
          "base_uri": "https://localhost:8080/"
        },
        "id": "jL80Poii7CzG",
        "outputId": "af065b8e-9da0-4846-9a4c-70ebd7db36fa"
      },
      "execution_count": 20,
      "outputs": [
        {
          "output_type": "execute_result",
          "data": {
            "text/plain": [
              "28"
            ]
          },
          "metadata": {},
          "execution_count": 20
        }
      ]
    },
    {
      "cell_type": "code",
      "source": [
        "import pandas as pd\n",
        "\n",
        "# Charger les données d'entraînement à partir d'un fichier CSV dans un dataframe Pandas\n",
        "x_train = pd.read_csv(\"https://raw.githubusercontent.com/Bilal-Belli/ArabicAlphabetRecognizerCNN/refs/heads/main/Datasets/csvTrainImages%2013440x1024.csv\",header=None)\n",
        "\n",
        "# Charger les données de test à partir d'un fichier CSV dans un dataframe Pandas\n",
        "x_test = pd.read_csv(\"https://raw.githubusercontent.com/Bilal-Belli/ArabicAlphabetRecognizerCNN/refs/heads/main/Datasets/csvTestImages%203360x1024.csv\",header=None)\n",
        "\n",
        "# Charger les étiquettes d'entraînement à partir d'un fichier CSV dans un dataframe Pandas\n",
        "y_train = pd.read_csv(\"https://raw.githubusercontent.com/Bilal-Belli/ArabicAlphabetRecognizerCNN/refs/heads/main/Datasets/csvTrainLabel%2013440x1.csv\",header=None)\n",
        "\n",
        "# Charger les étiquettes de test à partir d'un fichier CSV dans un dataframe Pandas\n",
        "y_test = pd.read_csv(\"https://raw.githubusercontent.com/Bilal-Belli/ArabicAlphabetRecognizerCNN/refs/heads/main/Datasets/csvTestLabel%203360x1.csv\",header=None)\n",
        "\n",
        "# \"header=None\" signifie que le fichier CSV n'a pas de ligne d'en-tête"
      ],
      "metadata": {
        "id": "Q-5cGLiY7lvm"
      },
      "execution_count": 21,
      "outputs": []
    },
    {
      "cell_type": "code",
      "source": [
        "# Content display\n",
        "x_train.head()\n",
        "x_test.head()\n",
        "y_train.head()\n",
        "y_test.head()"
      ],
      "metadata": {
        "colab": {
          "base_uri": "https://localhost:8080/",
          "height": 206
        },
        "id": "9C_wsxhf8YvE",
        "outputId": "d658ee57-74e9-4969-dd5a-1a10a1d5c5e0"
      },
      "execution_count": 22,
      "outputs": [
        {
          "output_type": "execute_result",
          "data": {
            "text/plain": [
              "   0\n",
              "0  1\n",
              "1  1\n",
              "2  2\n",
              "3  2\n",
              "4  3"
            ],
            "text/html": [
              "\n",
              "  <div id=\"df-a71f5a51-faf1-4cec-a3ee-3482d6608b54\" class=\"colab-df-container\">\n",
              "    <div>\n",
              "<style scoped>\n",
              "    .dataframe tbody tr th:only-of-type {\n",
              "        vertical-align: middle;\n",
              "    }\n",
              "\n",
              "    .dataframe tbody tr th {\n",
              "        vertical-align: top;\n",
              "    }\n",
              "\n",
              "    .dataframe thead th {\n",
              "        text-align: right;\n",
              "    }\n",
              "</style>\n",
              "<table border=\"1\" class=\"dataframe\">\n",
              "  <thead>\n",
              "    <tr style=\"text-align: right;\">\n",
              "      <th></th>\n",
              "      <th>0</th>\n",
              "    </tr>\n",
              "  </thead>\n",
              "  <tbody>\n",
              "    <tr>\n",
              "      <th>0</th>\n",
              "      <td>1</td>\n",
              "    </tr>\n",
              "    <tr>\n",
              "      <th>1</th>\n",
              "      <td>1</td>\n",
              "    </tr>\n",
              "    <tr>\n",
              "      <th>2</th>\n",
              "      <td>2</td>\n",
              "    </tr>\n",
              "    <tr>\n",
              "      <th>3</th>\n",
              "      <td>2</td>\n",
              "    </tr>\n",
              "    <tr>\n",
              "      <th>4</th>\n",
              "      <td>3</td>\n",
              "    </tr>\n",
              "  </tbody>\n",
              "</table>\n",
              "</div>\n",
              "    <div class=\"colab-df-buttons\">\n",
              "\n",
              "  <div class=\"colab-df-container\">\n",
              "    <button class=\"colab-df-convert\" onclick=\"convertToInteractive('df-a71f5a51-faf1-4cec-a3ee-3482d6608b54')\"\n",
              "            title=\"Convert this dataframe to an interactive table.\"\n",
              "            style=\"display:none;\">\n",
              "\n",
              "  <svg xmlns=\"http://www.w3.org/2000/svg\" height=\"24px\" viewBox=\"0 -960 960 960\">\n",
              "    <path d=\"M120-120v-720h720v720H120Zm60-500h600v-160H180v160Zm220 220h160v-160H400v160Zm0 220h160v-160H400v160ZM180-400h160v-160H180v160Zm440 0h160v-160H620v160ZM180-180h160v-160H180v160Zm440 0h160v-160H620v160Z\"/>\n",
              "  </svg>\n",
              "    </button>\n",
              "\n",
              "  <style>\n",
              "    .colab-df-container {\n",
              "      display:flex;\n",
              "      gap: 12px;\n",
              "    }\n",
              "\n",
              "    .colab-df-convert {\n",
              "      background-color: #E8F0FE;\n",
              "      border: none;\n",
              "      border-radius: 50%;\n",
              "      cursor: pointer;\n",
              "      display: none;\n",
              "      fill: #1967D2;\n",
              "      height: 32px;\n",
              "      padding: 0 0 0 0;\n",
              "      width: 32px;\n",
              "    }\n",
              "\n",
              "    .colab-df-convert:hover {\n",
              "      background-color: #E2EBFA;\n",
              "      box-shadow: 0px 1px 2px rgba(60, 64, 67, 0.3), 0px 1px 3px 1px rgba(60, 64, 67, 0.15);\n",
              "      fill: #174EA6;\n",
              "    }\n",
              "\n",
              "    .colab-df-buttons div {\n",
              "      margin-bottom: 4px;\n",
              "    }\n",
              "\n",
              "    [theme=dark] .colab-df-convert {\n",
              "      background-color: #3B4455;\n",
              "      fill: #D2E3FC;\n",
              "    }\n",
              "\n",
              "    [theme=dark] .colab-df-convert:hover {\n",
              "      background-color: #434B5C;\n",
              "      box-shadow: 0px 1px 3px 1px rgba(0, 0, 0, 0.15);\n",
              "      filter: drop-shadow(0px 1px 2px rgba(0, 0, 0, 0.3));\n",
              "      fill: #FFFFFF;\n",
              "    }\n",
              "  </style>\n",
              "\n",
              "    <script>\n",
              "      const buttonEl =\n",
              "        document.querySelector('#df-a71f5a51-faf1-4cec-a3ee-3482d6608b54 button.colab-df-convert');\n",
              "      buttonEl.style.display =\n",
              "        google.colab.kernel.accessAllowed ? 'block' : 'none';\n",
              "\n",
              "      async function convertToInteractive(key) {\n",
              "        const element = document.querySelector('#df-a71f5a51-faf1-4cec-a3ee-3482d6608b54');\n",
              "        const dataTable =\n",
              "          await google.colab.kernel.invokeFunction('convertToInteractive',\n",
              "                                                    [key], {});\n",
              "        if (!dataTable) return;\n",
              "\n",
              "        const docLinkHtml = 'Like what you see? Visit the ' +\n",
              "          '<a target=\"_blank\" href=https://colab.research.google.com/notebooks/data_table.ipynb>data table notebook</a>'\n",
              "          + ' to learn more about interactive tables.';\n",
              "        element.innerHTML = '';\n",
              "        dataTable['output_type'] = 'display_data';\n",
              "        await google.colab.output.renderOutput(dataTable, element);\n",
              "        const docLink = document.createElement('div');\n",
              "        docLink.innerHTML = docLinkHtml;\n",
              "        element.appendChild(docLink);\n",
              "      }\n",
              "    </script>\n",
              "  </div>\n",
              "\n",
              "\n",
              "<div id=\"df-47613cbe-c076-4d65-8a7b-db5ddeb7ae27\">\n",
              "  <button class=\"colab-df-quickchart\" onclick=\"quickchart('df-47613cbe-c076-4d65-8a7b-db5ddeb7ae27')\"\n",
              "            title=\"Suggest charts\"\n",
              "            style=\"display:none;\">\n",
              "\n",
              "<svg xmlns=\"http://www.w3.org/2000/svg\" height=\"24px\"viewBox=\"0 0 24 24\"\n",
              "     width=\"24px\">\n",
              "    <g>\n",
              "        <path d=\"M19 3H5c-1.1 0-2 .9-2 2v14c0 1.1.9 2 2 2h14c1.1 0 2-.9 2-2V5c0-1.1-.9-2-2-2zM9 17H7v-7h2v7zm4 0h-2V7h2v10zm4 0h-2v-4h2v4z\"/>\n",
              "    </g>\n",
              "</svg>\n",
              "  </button>\n",
              "\n",
              "<style>\n",
              "  .colab-df-quickchart {\n",
              "      --bg-color: #E8F0FE;\n",
              "      --fill-color: #1967D2;\n",
              "      --hover-bg-color: #E2EBFA;\n",
              "      --hover-fill-color: #174EA6;\n",
              "      --disabled-fill-color: #AAA;\n",
              "      --disabled-bg-color: #DDD;\n",
              "  }\n",
              "\n",
              "  [theme=dark] .colab-df-quickchart {\n",
              "      --bg-color: #3B4455;\n",
              "      --fill-color: #D2E3FC;\n",
              "      --hover-bg-color: #434B5C;\n",
              "      --hover-fill-color: #FFFFFF;\n",
              "      --disabled-bg-color: #3B4455;\n",
              "      --disabled-fill-color: #666;\n",
              "  }\n",
              "\n",
              "  .colab-df-quickchart {\n",
              "    background-color: var(--bg-color);\n",
              "    border: none;\n",
              "    border-radius: 50%;\n",
              "    cursor: pointer;\n",
              "    display: none;\n",
              "    fill: var(--fill-color);\n",
              "    height: 32px;\n",
              "    padding: 0;\n",
              "    width: 32px;\n",
              "  }\n",
              "\n",
              "  .colab-df-quickchart:hover {\n",
              "    background-color: var(--hover-bg-color);\n",
              "    box-shadow: 0 1px 2px rgba(60, 64, 67, 0.3), 0 1px 3px 1px rgba(60, 64, 67, 0.15);\n",
              "    fill: var(--button-hover-fill-color);\n",
              "  }\n",
              "\n",
              "  .colab-df-quickchart-complete:disabled,\n",
              "  .colab-df-quickchart-complete:disabled:hover {\n",
              "    background-color: var(--disabled-bg-color);\n",
              "    fill: var(--disabled-fill-color);\n",
              "    box-shadow: none;\n",
              "  }\n",
              "\n",
              "  .colab-df-spinner {\n",
              "    border: 2px solid var(--fill-color);\n",
              "    border-color: transparent;\n",
              "    border-bottom-color: var(--fill-color);\n",
              "    animation:\n",
              "      spin 1s steps(1) infinite;\n",
              "  }\n",
              "\n",
              "  @keyframes spin {\n",
              "    0% {\n",
              "      border-color: transparent;\n",
              "      border-bottom-color: var(--fill-color);\n",
              "      border-left-color: var(--fill-color);\n",
              "    }\n",
              "    20% {\n",
              "      border-color: transparent;\n",
              "      border-left-color: var(--fill-color);\n",
              "      border-top-color: var(--fill-color);\n",
              "    }\n",
              "    30% {\n",
              "      border-color: transparent;\n",
              "      border-left-color: var(--fill-color);\n",
              "      border-top-color: var(--fill-color);\n",
              "      border-right-color: var(--fill-color);\n",
              "    }\n",
              "    40% {\n",
              "      border-color: transparent;\n",
              "      border-right-color: var(--fill-color);\n",
              "      border-top-color: var(--fill-color);\n",
              "    }\n",
              "    60% {\n",
              "      border-color: transparent;\n",
              "      border-right-color: var(--fill-color);\n",
              "    }\n",
              "    80% {\n",
              "      border-color: transparent;\n",
              "      border-right-color: var(--fill-color);\n",
              "      border-bottom-color: var(--fill-color);\n",
              "    }\n",
              "    90% {\n",
              "      border-color: transparent;\n",
              "      border-bottom-color: var(--fill-color);\n",
              "    }\n",
              "  }\n",
              "</style>\n",
              "\n",
              "  <script>\n",
              "    async function quickchart(key) {\n",
              "      const quickchartButtonEl =\n",
              "        document.querySelector('#' + key + ' button');\n",
              "      quickchartButtonEl.disabled = true;  // To prevent multiple clicks.\n",
              "      quickchartButtonEl.classList.add('colab-df-spinner');\n",
              "      try {\n",
              "        const charts = await google.colab.kernel.invokeFunction(\n",
              "            'suggestCharts', [key], {});\n",
              "      } catch (error) {\n",
              "        console.error('Error during call to suggestCharts:', error);\n",
              "      }\n",
              "      quickchartButtonEl.classList.remove('colab-df-spinner');\n",
              "      quickchartButtonEl.classList.add('colab-df-quickchart-complete');\n",
              "    }\n",
              "    (() => {\n",
              "      let quickchartButtonEl =\n",
              "        document.querySelector('#df-47613cbe-c076-4d65-8a7b-db5ddeb7ae27 button');\n",
              "      quickchartButtonEl.style.display =\n",
              "        google.colab.kernel.accessAllowed ? 'block' : 'none';\n",
              "    })();\n",
              "  </script>\n",
              "</div>\n",
              "\n",
              "    </div>\n",
              "  </div>\n"
            ],
            "application/vnd.google.colaboratory.intrinsic+json": {
              "type": "dataframe",
              "variable_name": "y_test",
              "summary": "{\n  \"name\": \"y_test\",\n  \"rows\": 3360,\n  \"fields\": [\n    {\n      \"column\": 0,\n      \"properties\": {\n        \"dtype\": \"number\",\n        \"std\": 8,\n        \"min\": 1,\n        \"max\": 28,\n        \"num_unique_values\": 28,\n        \"samples\": [\n          10,\n          26,\n          9\n        ],\n        \"semantic_type\": \"\",\n        \"description\": \"\"\n      }\n    }\n  ]\n}"
            }
          },
          "metadata": {},
          "execution_count": 22
        }
      ]
    },
    {
      "cell_type": "code",
      "source": [
        "# Check if there are any missing values in the x_train dataframe\n",
        "# The isnull() method returns a boolean dataframe indicating whether each element is null (True) or not (False)\n",
        "# The sum() method returns the number of null values for each column\n",
        "# The result is a dataframe with the same shape as x_train, where each column contains the count of null values in that column\n",
        "x_train.isnull().sum()\n"
      ],
      "metadata": {
        "colab": {
          "base_uri": "https://localhost:8080/",
          "height": 458
        },
        "id": "B6K57BKs8lb7",
        "outputId": "b36504a9-9cdb-46d6-dc5f-f5d7a5659018"
      },
      "execution_count": 23,
      "outputs": [
        {
          "output_type": "execute_result",
          "data": {
            "text/plain": [
              "0       0\n",
              "1       0\n",
              "2       0\n",
              "3       0\n",
              "4       0\n",
              "       ..\n",
              "1019    0\n",
              "1020    0\n",
              "1021    0\n",
              "1022    0\n",
              "1023    0\n",
              "Length: 1024, dtype: int64"
            ],
            "text/html": [
              "<div>\n",
              "<style scoped>\n",
              "    .dataframe tbody tr th:only-of-type {\n",
              "        vertical-align: middle;\n",
              "    }\n",
              "\n",
              "    .dataframe tbody tr th {\n",
              "        vertical-align: top;\n",
              "    }\n",
              "\n",
              "    .dataframe thead th {\n",
              "        text-align: right;\n",
              "    }\n",
              "</style>\n",
              "<table border=\"1\" class=\"dataframe\">\n",
              "  <thead>\n",
              "    <tr style=\"text-align: right;\">\n",
              "      <th></th>\n",
              "      <th>0</th>\n",
              "    </tr>\n",
              "  </thead>\n",
              "  <tbody>\n",
              "    <tr>\n",
              "      <th>0</th>\n",
              "      <td>0</td>\n",
              "    </tr>\n",
              "    <tr>\n",
              "      <th>1</th>\n",
              "      <td>0</td>\n",
              "    </tr>\n",
              "    <tr>\n",
              "      <th>2</th>\n",
              "      <td>0</td>\n",
              "    </tr>\n",
              "    <tr>\n",
              "      <th>3</th>\n",
              "      <td>0</td>\n",
              "    </tr>\n",
              "    <tr>\n",
              "      <th>4</th>\n",
              "      <td>0</td>\n",
              "    </tr>\n",
              "    <tr>\n",
              "      <th>...</th>\n",
              "      <td>...</td>\n",
              "    </tr>\n",
              "    <tr>\n",
              "      <th>1019</th>\n",
              "      <td>0</td>\n",
              "    </tr>\n",
              "    <tr>\n",
              "      <th>1020</th>\n",
              "      <td>0</td>\n",
              "    </tr>\n",
              "    <tr>\n",
              "      <th>1021</th>\n",
              "      <td>0</td>\n",
              "    </tr>\n",
              "    <tr>\n",
              "      <th>1022</th>\n",
              "      <td>0</td>\n",
              "    </tr>\n",
              "    <tr>\n",
              "      <th>1023</th>\n",
              "      <td>0</td>\n",
              "    </tr>\n",
              "  </tbody>\n",
              "</table>\n",
              "<p>1024 rows × 1 columns</p>\n",
              "</div><br><label><b>dtype:</b> int64</label>"
            ]
          },
          "metadata": {},
          "execution_count": 23
        }
      ]
    },
    {
      "cell_type": "code",
      "source": [
        "# Calculate the total number of missing values in the x_train dataframe\n",
        "# The sum() method returns the sum of all the values in the dataframe\n",
        "x_train.isnull().sum().sum()\n"
      ],
      "metadata": {
        "colab": {
          "base_uri": "https://localhost:8080/"
        },
        "id": "b85OLbXJ88wo",
        "outputId": "73238dde-7f24-4e19-c0b6-cdbcd4389aed"
      },
      "execution_count": 24,
      "outputs": [
        {
          "output_type": "execute_result",
          "data": {
            "text/plain": [
              "np.int64(0)"
            ]
          },
          "metadata": {},
          "execution_count": 24
        }
      ]
    },
    {
      "cell_type": "code",
      "source": [
        "# Check if there are any missing values in the x_test dataframe\n",
        "# The isnull() method returns a boolean dataframe indicating whether each element is null (True) or not (False)\n",
        "# The sum() method returns the number of null values for each column\n",
        "# The result is a dataframe with the same shape as x_test, where each column contains the count of null values in that column\n",
        "x_test.isnull().sum()\n"
      ],
      "metadata": {
        "colab": {
          "base_uri": "https://localhost:8080/",
          "height": 458
        },
        "collapsed": true,
        "id": "LjKk6Oqq9OWC",
        "outputId": "69ba8b97-53e3-4743-a7b2-a82a6cf8d83c"
      },
      "execution_count": 25,
      "outputs": [
        {
          "output_type": "execute_result",
          "data": {
            "text/plain": [
              "0       0\n",
              "1       0\n",
              "2       0\n",
              "3       0\n",
              "4       0\n",
              "       ..\n",
              "1019    0\n",
              "1020    0\n",
              "1021    0\n",
              "1022    0\n",
              "1023    0\n",
              "Length: 1024, dtype: int64"
            ],
            "text/html": [
              "<div>\n",
              "<style scoped>\n",
              "    .dataframe tbody tr th:only-of-type {\n",
              "        vertical-align: middle;\n",
              "    }\n",
              "\n",
              "    .dataframe tbody tr th {\n",
              "        vertical-align: top;\n",
              "    }\n",
              "\n",
              "    .dataframe thead th {\n",
              "        text-align: right;\n",
              "    }\n",
              "</style>\n",
              "<table border=\"1\" class=\"dataframe\">\n",
              "  <thead>\n",
              "    <tr style=\"text-align: right;\">\n",
              "      <th></th>\n",
              "      <th>0</th>\n",
              "    </tr>\n",
              "  </thead>\n",
              "  <tbody>\n",
              "    <tr>\n",
              "      <th>0</th>\n",
              "      <td>0</td>\n",
              "    </tr>\n",
              "    <tr>\n",
              "      <th>1</th>\n",
              "      <td>0</td>\n",
              "    </tr>\n",
              "    <tr>\n",
              "      <th>2</th>\n",
              "      <td>0</td>\n",
              "    </tr>\n",
              "    <tr>\n",
              "      <th>3</th>\n",
              "      <td>0</td>\n",
              "    </tr>\n",
              "    <tr>\n",
              "      <th>4</th>\n",
              "      <td>0</td>\n",
              "    </tr>\n",
              "    <tr>\n",
              "      <th>...</th>\n",
              "      <td>...</td>\n",
              "    </tr>\n",
              "    <tr>\n",
              "      <th>1019</th>\n",
              "      <td>0</td>\n",
              "    </tr>\n",
              "    <tr>\n",
              "      <th>1020</th>\n",
              "      <td>0</td>\n",
              "    </tr>\n",
              "    <tr>\n",
              "      <th>1021</th>\n",
              "      <td>0</td>\n",
              "    </tr>\n",
              "    <tr>\n",
              "      <th>1022</th>\n",
              "      <td>0</td>\n",
              "    </tr>\n",
              "    <tr>\n",
              "      <th>1023</th>\n",
              "      <td>0</td>\n",
              "    </tr>\n",
              "  </tbody>\n",
              "</table>\n",
              "<p>1024 rows × 1 columns</p>\n",
              "</div><br><label><b>dtype:</b> int64</label>"
            ]
          },
          "metadata": {},
          "execution_count": 25
        }
      ]
    },
    {
      "cell_type": "code",
      "source": [
        "# Calculate the total number of missing values in the x_test dataframe\n",
        "# The sum() method returns the sum of all the values in the dataframe\n",
        "x_test.isnull().sum().sum()\n"
      ],
      "metadata": {
        "colab": {
          "base_uri": "https://localhost:8080/"
        },
        "id": "AySePRuQ9YVp",
        "outputId": "4ecfc2a8-115f-4def-cf63-af214f7cdd88"
      },
      "execution_count": 26,
      "outputs": [
        {
          "output_type": "execute_result",
          "data": {
            "text/plain": [
              "np.int64(0)"
            ]
          },
          "metadata": {},
          "execution_count": 26
        }
      ]
    },
    {
      "cell_type": "code",
      "source": [
        "# Calculate the total number of missing values in the x_test dataframe\n",
        "# The sum() method returns the sum of all the values in the dataframe\n",
        "x_test.isnull().sum().sum()"
      ],
      "metadata": {
        "colab": {
          "base_uri": "https://localhost:8080/"
        },
        "id": "ZNidPSQ39kWs",
        "outputId": "1694d583-87fb-47cc-d6af-dafe3c92aedf"
      },
      "execution_count": 27,
      "outputs": [
        {
          "output_type": "execute_result",
          "data": {
            "text/plain": [
              "np.int64(0)"
            ]
          },
          "metadata": {},
          "execution_count": 27
        }
      ]
    },
    {
      "cell_type": "code",
      "source": [
        "# Convert the dataframes x_train, x_test, y_train, and y_test into NumPy arrays for use in the deep learning model\n",
        "# The to_numpy() method returns a NumPy array containing the same data as the dataframe\n",
        "x_train = x_train.to_numpy()\n",
        "x_test = x_test.to_numpy()\n",
        "y_train = y_train.to_numpy()\n",
        "y_test = y_test.to_numpy()\n"
      ],
      "metadata": {
        "id": "p6kztOvv9sE-"
      },
      "execution_count": 28,
      "outputs": []
    },
    {
      "cell_type": "code",
      "source": [
        "# Display the shape of the training data\n",
        "# print(x_train.shape)\n",
        "\n",
        "# Display the shape of the training output data\n",
        "# print(y_train.shape)\n",
        "\n",
        "# Display the shape of the test input data\n",
        "# print(x_test.shape)\n",
        "\n",
        "# Display the shape of the test output data\n",
        "# print(y_test.shape)\n",
        "\n",
        "# Normalize the data\n",
        "x_train = x_train / 255\n",
        "x_test = x_test / 255\n",
        "\n",
        "# Reshape the data\n",
        "x_train = x_train.reshape(-1,32,32,1)\n",
        "x_test = x_test.reshape(-1,32,32,1)\n",
        "\n",
        "# Display several example images\n",
        "ra = np.random.randint(0, 13440, size=25)\n",
        "plt.figure(figsize=(10,10))\n",
        "for i in range(25):\n",
        "    plt.subplot(5,5,i+1)\n",
        "    plt.xticks([])\n",
        "    plt.yticks([])\n",
        "    plt.imshow(x_train[ra[i]].reshape(32,32).T,\"gray\")\n",
        "    plt.xlabel(arabic_characters[int(y_train[ra[i]][0])-1])\n",
        "plt.show()\n"
      ],
      "metadata": {
        "colab": {
          "base_uri": "https://localhost:8080/",
          "height": 826
        },
        "id": "OkszW3k391yi",
        "outputId": "83b0e145-e8ad-496b-8049-ee7422052639"
      },
      "execution_count": 29,
      "outputs": [
        {
          "output_type": "display_data",
          "data": {
            "text/plain": [
              "<Figure size 1000x1000 with 25 Axes>"
            ],
            "image/png": "[encoded data removed]"
          },
          "metadata": {}
        }
      ]
    },
    {
      "cell_type": "code",
      "source": [
        "# One-hot encoding of the labels\n",
        "y_train = to_categorical(y_train)\n",
        "y_test = to_categorical(y_test)\n",
        "\n",
        "# Check the dimensions\n",
        "x_train.shape\n",
        "y_train.shape\n",
        "\n",
        "# Display an example of an encoded label\n",
        "y_train[0]\n",
        "\n",
        "# Number of classes\n",
        "len(y_train[0])\n",
        "\n",
        "# Remove the first column of encoding\n",
        "y_train = y_train[:,1:]\n",
        "y_test = y_test[:,1:]\n",
        "\n",
        "# Check the dimensions after removal\n",
        "len(y_train[0])\n"
      ],
      "metadata": {
        "colab": {
          "base_uri": "https://localhost:8080/"
        },
        "id": "-X9ZvqVq-GXI",
        "outputId": "7e9df947-f97f-4f80-9223-aeaaccfb8722"
      },
      "execution_count": 30,
      "outputs": [
        {
          "output_type": "execute_result",
          "data": {
            "text/plain": [
              "28"
            ]
          },
          "metadata": {},
          "execution_count": 30
        }
      ]
    },
    {
      "cell_type": "code",
      "source": [
        "from tensorflow.keras.utils import plot_model\n",
        "from tensorflow.keras.models import Sequential\n",
        "from tensorflow.keras.layers import Input, Dense, Conv2D, Flatten, Dropout, MaxPooling2D\n",
        "\n",
        "model = Sequential()\n",
        "\n",
        "# Add layers to the model\n",
        "model.add(Conv2D(64, kernel_size=3, activation='relu', input_shape=(32,32,1)))\n",
        "model.add(MaxPooling2D((2,2)))\n",
        "model.add(Conv2D(32, kernel_size=3, activation='relu'))\n",
        "model.add(MaxPooling2D((2,2)))\n",
        "model.add(Flatten())\n",
        "model.add(Dropout(0.5))\n",
        "model.add(Dense(28, activation='softmax'))\n",
        "\n",
        "# Compile the model by defining the optimization parameters and metrics\n",
        "model.compile(loss='categorical_crossentropy', optimizer='adam', metrics=['accuracy'])\n",
        "\n",
        "# Train the model on the training data\n",
        "model.fit(x_train, y_train, epochs=10)\n",
        "\n"
      ],
      "metadata": {
        "colab": {
          "base_uri": "https://localhost:8080/"
        },
        "id": "zPvAOs8w-RlS",
        "outputId": "7a17b0b3-367d-448b-a970-c210163d1b0e"
      },
      "execution_count": 31,
      "outputs": [
        {
          "output_type": "stream",
          "name": "stderr",
          "text": [
            "/usr/local/lib/python3.11/dist-packages/keras/src/layers/convolutional/base_conv.py:107: UserWarning: Do not pass an `input_shape`/`input_dim` argument to a layer. When using Sequential models, prefer using an `Input(shape)` object as the first layer in the model instead.\n",
            "  super().__init__(activity_regularizer=activity_regularizer, **kwargs)\n"
          ]
        },
        {
          "output_type": "stream",
          "name": "stdout",
          "text": [
            "Epoch 1/10\n",
            "\u001b[1m420/420\u001b[0m \u001b[32m━━━━━━━━━━━━━━━━━━━━\u001b[0m\u001b[37m\u001b[0m \u001b[1m21s\u001b[0m 46ms/step - accuracy: 0.2329 - loss: 2.6139\n",
            "Epoch 2/10\n",
            "\u001b[1m420/420\u001b[0m \u001b[32m━━━━━━━━━━━━━━━━━━━━\u001b[0m\u001b[37m\u001b[0m \u001b[1m19s\u001b[0m 44ms/step - accuracy: 0.6283 - loss: 1.1869\n",
            "Epoch 3/10\n",
            "\u001b[1m420/420\u001b[0m \u001b[32m━━━━━━━━━━━━━━━━━━━━\u001b[0m\u001b[37m\u001b[0m \u001b[1m23s\u001b[0m 49ms/step - accuracy: 0.7371 - loss: 0.8309\n",
            "Epoch 4/10\n",
            "\u001b[1m420/420\u001b[0m \u001b[32m━━━━━━━━━━━━━━━━━━━━\u001b[0m\u001b[37m\u001b[0m \u001b[1m18s\u001b[0m 43ms/step - accuracy: 0.7879 - loss: 0.6648\n",
            "Epoch 5/10\n",
            "\u001b[1m420/420\u001b[0m \u001b[32m━━━━━━━━━━━━━━━━━━━━\u001b[0m\u001b[37m\u001b[0m \u001b[1m21s\u001b[0m 46ms/step - accuracy: 0.8239 - loss: 0.5504\n",
            "Epoch 6/10\n",
            "\u001b[1m420/420\u001b[0m \u001b[32m━━━━━━━━━━━━━━━━━━━━\u001b[0m\u001b[37m\u001b[0m \u001b[1m19s\u001b[0m 43ms/step - accuracy: 0.8374 - loss: 0.4945\n",
            "Epoch 7/10\n",
            "\u001b[1m420/420\u001b[0m \u001b[32m━━━━━━━━━━━━━━━━━━━━\u001b[0m\u001b[37m\u001b[0m \u001b[1m18s\u001b[0m 43ms/step - accuracy: 0.8569 - loss: 0.4505\n",
            "Epoch 8/10\n",
            "\u001b[1m420/420\u001b[0m \u001b[32m━━━━━━━━━━━━━━━━━━━━\u001b[0m\u001b[37m\u001b[0m \u001b[1m22s\u001b[0m 48ms/step - accuracy: 0.8618 - loss: 0.4163\n",
            "Epoch 9/10\n",
            "\u001b[1m420/420\u001b[0m \u001b[32m━━━━━━━━━━━━━━━━━━━━\u001b[0m\u001b[37m\u001b[0m \u001b[1m18s\u001b[0m 43ms/step - accuracy: 0.8781 - loss: 0.3725\n",
            "Epoch 10/10\n",
            "\u001b[1m420/420\u001b[0m \u001b[32m━━━━━━━━━━━━━━━━━━━━\u001b[0m\u001b[37m\u001b[0m \u001b[1m23s\u001b[0m 48ms/step - accuracy: 0.8853 - loss: 0.3436\n"
          ]
        },
        {
          "output_type": "execute_result",
          "data": {
            "text/plain": [
              "<keras.src.callbacks.history.History at 0x7ac39d88de50>"
            ]
          },
          "metadata": {},
          "execution_count": 31
        }
      ]
    },
    {
      "cell_type": "code",
      "source": [
        "model.summary()"
      ],
      "metadata": {
        "colab": {
          "base_uri": "https://localhost:8080/",
          "height": 369
        },
        "id": "Ga0VyJzF_eaO",
        "outputId": "7d63ce1c-e4c1-4816-be81-1e3b7c3b3a50"
      },
      "execution_count": 32,
      "outputs": [
        {
          "output_type": "display_data",
          "data": {
            "text/plain": [
              "\u001b[1mModel: \"sequential_1\"\u001b[0m\n"
            ],
            "text/html": [
              "<pre style=\"white-space:pre;overflow-x:auto;line-height:normal;font-family:Menlo,'DejaVu Sans Mono',consolas,'Courier New',monospace\"><span style=\"font-weight: bold\">Model: \"sequential_1\"</span>\n",
              "</pre>\n"
            ]
          },
          "metadata": {}
        },
        {
          "output_type": "display_data",
          "data": {
            "text/plain": [
              "┏━━━━━━━━━━━━━━━━━━━━━━━━━━━━━━━━━┳━━━━━━━━━━━━━━━━━━━━━━━━┳━━━━━━━━━━━━━━━┓\n",
              "┃\u001b[1m \u001b[0m\u001b[1mLayer (type)                   \u001b[0m\u001b[1m \u001b[0m┃\u001b[1m \u001b[0m\u001b[1mOutput Shape          \u001b[0m\u001b[1m \u001b[0m┃\u001b[1m \u001b[0m\u001b[1m      Param #\u001b[0m\u001b[1m \u001b[0m┃\n",
              "┡━━━━━━━━━━━━━━━━━━━━━━━━━━━━━━━━━╇━━━━━━━━━━━━━━━━━━━━━━━━╇━━━━━━━━━━━━━━━┩\n",
              "│ conv2d_2 (\u001b[38;5;33mConv2D\u001b[0m)               │ (\u001b[38;5;45mNone\u001b[0m, \u001b[38;5;34m30\u001b[0m, \u001b[38;5;34m30\u001b[0m, \u001b[38;5;34m64\u001b[0m)     │           \u001b[38;5;34m640\u001b[0m │\n",
              "├─────────────────────────────────┼────────────────────────┼───────────────┤\n",
              "│ max_pooling2d_2 (\u001b[38;5;33mMaxPooling2D\u001b[0m)  │ (\u001b[38;5;45mNone\u001b[0m, \u001b[38;5;34m15\u001b[0m, \u001b[38;5;34m15\u001b[0m, \u001b[38;5;34m64\u001b[0m)     │             \u001b[38;5;34m0\u001b[0m │\n",
              "├─────────────────────────────────┼────────────────────────┼───────────────┤\n",
              "│ conv2d_3 (\u001b[38;5;33mConv2D\u001b[0m)               │ (\u001b[38;5;45mNone\u001b[0m, \u001b[38;5;34m13\u001b[0m, \u001b[38;5;34m13\u001b[0m, \u001b[38;5;34m32\u001b[0m)     │        \u001b[38;5;34m18,464\u001b[0m │\n",
              "├─────────────────────────────────┼────────────────────────┼───────────────┤\n",
              "│ max_pooling2d_3 (\u001b[38;5;33mMaxPooling2D\u001b[0m)  │ (\u001b[38;5;45mNone\u001b[0m, \u001b[38;5;34m6\u001b[0m, \u001b[38;5;34m6\u001b[0m, \u001b[38;5;34m32\u001b[0m)       │             \u001b[38;5;34m0\u001b[0m │\n",
              "├─────────────────────────────────┼────────────────────────┼───────────────┤\n",
              "│ flatten_1 (\u001b[38;5;33mFlatten\u001b[0m)             │ (\u001b[38;5;45mNone\u001b[0m, \u001b[38;5;34m1152\u001b[0m)           │             \u001b[38;5;34m0\u001b[0m │\n",
              "├─────────────────────────────────┼────────────────────────┼───────────────┤\n",
              "│ dropout_1 (\u001b[38;5;33mDropout\u001b[0m)             │ (\u001b[38;5;45mNone\u001b[0m, \u001b[38;5;34m1152\u001b[0m)           │             \u001b[38;5;34m0\u001b[0m │\n",
              "├─────────────────────────────────┼────────────────────────┼───────────────┤\n",
              "│ dense_1 (\u001b[38;5;33mDense\u001b[0m)                 │ (\u001b[38;5;45mNone\u001b[0m, \u001b[38;5;34m28\u001b[0m)             │        \u001b[38;5;34m32,284\u001b[0m │\n",
              "└─────────────────────────────────┴────────────────────────┴───────────────┘\n"
            ],
            "text/html": [
              "<pre style=\"white-space:pre;overflow-x:auto;line-height:normal;font-family:Menlo,'DejaVu Sans Mono',consolas,'Courier New',monospace\">┏━━━━━━━━━━━━━━━━━━━━━━━━━━━━━━━━━┳━━━━━━━━━━━━━━━━━━━━━━━━┳━━━━━━━━━━━━━━━┓\n",
              "┃<span style=\"font-weight: bold\"> Layer (type)                    </span>┃<span style=\"font-weight: bold\"> Output Shape           </span>┃<span style=\"font-weight: bold\">       Param # </span>┃\n",
              "┡━━━━━━━━━━━━━━━━━━━━━━━━━━━━━━━━━╇━━━━━━━━━━━━━━━━━━━━━━━━╇━━━━━━━━━━━━━━━┩\n",
              "│ conv2d_2 (<span style=\"color: #0087ff; text-decoration-color: #0087ff\">Conv2D</span>)               │ (<span style=\"color: #00d7ff; text-decoration-color: #00d7ff\">None</span>, <span style=\"color: #00af00; text-decoration-color: #00af00\">30</span>, <span style=\"color: #00af00; text-decoration-color: #00af00\">30</span>, <span style=\"color: #00af00; text-decoration-color: #00af00\">64</span>)     │           <span style=\"color: #00af00; text-decoration-color: #00af00\">640</span> │\n",
              "├─────────────────────────────────┼────────────────────────┼───────────────┤\n",
              "│ max_pooling2d_2 (<span style=\"color: #0087ff; text-decoration-color: #0087ff\">MaxPooling2D</span>)  │ (<span style=\"color: #00d7ff; text-decoration-color: #00d7ff\">None</span>, <span style=\"color: #00af00; text-decoration-color: #00af00\">15</span>, <span style=\"color: #00af00; text-decoration-color: #00af00\">15</span>, <span style=\"color: #00af00; text-decoration-color: #00af00\">64</span>)     │             <span style=\"color: #00af00; text-decoration-color: #00af00\">0</span> │\n",
              "├─────────────────────────────────┼────────────────────────┼───────────────┤\n",
              "│ conv2d_3 (<span style=\"color: #0087ff; text-decoration-color: #0087ff\">Conv2D</span>)               │ (<span style=\"color: #00d7ff; text-decoration-color: #00d7ff\">None</span>, <span style=\"color: #00af00; text-decoration-color: #00af00\">13</span>, <span style=\"color: #00af00; text-decoration-color: #00af00\">13</span>, <span style=\"color: #00af00; text-decoration-color: #00af00\">32</span>)     │        <span style=\"color: #00af00; text-decoration-color: #00af00\">18,464</span> │\n",
              "├─────────────────────────────────┼────────────────────────┼───────────────┤\n",
              "│ max_pooling2d_3 (<span style=\"color: #0087ff; text-decoration-color: #0087ff\">MaxPooling2D</span>)  │ (<span style=\"color: #00d7ff; text-decoration-color: #00d7ff\">None</span>, <span style=\"color: #00af00; text-decoration-color: #00af00\">6</span>, <span style=\"color: #00af00; text-decoration-color: #00af00\">6</span>, <span style=\"color: #00af00; text-decoration-color: #00af00\">32</span>)       │             <span style=\"color: #00af00; text-decoration-color: #00af00\">0</span> │\n",
              "├─────────────────────────────────┼────────────────────────┼───────────────┤\n",
              "│ flatten_1 (<span style=\"color: #0087ff; text-decoration-color: #0087ff\">Flatten</span>)             │ (<span style=\"color: #00d7ff; text-decoration-color: #00d7ff\">None</span>, <span style=\"color: #00af00; text-decoration-color: #00af00\">1152</span>)           │             <span style=\"color: #00af00; text-decoration-color: #00af00\">0</span> │\n",
              "├─────────────────────────────────┼────────────────────────┼───────────────┤\n",
              "│ dropout_1 (<span style=\"color: #0087ff; text-decoration-color: #0087ff\">Dropout</span>)             │ (<span style=\"color: #00d7ff; text-decoration-color: #00d7ff\">None</span>, <span style=\"color: #00af00; text-decoration-color: #00af00\">1152</span>)           │             <span style=\"color: #00af00; text-decoration-color: #00af00\">0</span> │\n",
              "├─────────────────────────────────┼────────────────────────┼───────────────┤\n",
              "│ dense_1 (<span style=\"color: #0087ff; text-decoration-color: #0087ff\">Dense</span>)                 │ (<span style=\"color: #00d7ff; text-decoration-color: #00d7ff\">None</span>, <span style=\"color: #00af00; text-decoration-color: #00af00\">28</span>)             │        <span style=\"color: #00af00; text-decoration-color: #00af00\">32,284</span> │\n",
              "└─────────────────────────────────┴────────────────────────┴───────────────┘\n",
              "</pre>\n"
            ]
          },
          "metadata": {}
        },
        {
          "output_type": "display_data",
          "data": {
            "text/plain": [
              "\u001b[1m Total params: \u001b[0m\u001b[38;5;34m154,166\u001b[0m (602.21 KB)\n"
            ],
            "text/html": [
              "<pre style=\"white-space:pre;overflow-x:auto;line-height:normal;font-family:Menlo,'DejaVu Sans Mono',consolas,'Courier New',monospace\"><span style=\"font-weight: bold\"> Total params: </span><span style=\"color: #00af00; text-decoration-color: #00af00\">154,166</span> (602.21 KB)\n",
              "</pre>\n"
            ]
          },
          "metadata": {}
        },
        {
          "output_type": "display_data",
          "data": {
            "text/plain": [
              "\u001b[1m Trainable params: \u001b[0m\u001b[38;5;34m51,388\u001b[0m (200.73 KB)\n"
            ],
            "text/html": [
              "<pre style=\"white-space:pre;overflow-x:auto;line-height:normal;font-family:Menlo,'DejaVu Sans Mono',consolas,'Courier New',monospace\"><span style=\"font-weight: bold\"> Trainable params: </span><span style=\"color: #00af00; text-decoration-color: #00af00\">51,388</span> (200.73 KB)\n",
              "</pre>\n"
            ]
          },
          "metadata": {}
        },
        {
          "output_type": "display_data",
          "data": {
            "text/plain": [
              "\u001b[1m Non-trainable params: \u001b[0m\u001b[38;5;34m0\u001b[0m (0.00 B)\n"
            ],
            "text/html": [
              "<pre style=\"white-space:pre;overflow-x:auto;line-height:normal;font-family:Menlo,'DejaVu Sans Mono',consolas,'Courier New',monospace\"><span style=\"font-weight: bold\"> Non-trainable params: </span><span style=\"color: #00af00; text-decoration-color: #00af00\">0</span> (0.00 B)\n",
              "</pre>\n"
            ]
          },
          "metadata": {}
        },
        {
          "output_type": "display_data",
          "data": {
            "text/plain": [
              "\u001b[1m Optimizer params: \u001b[0m\u001b[38;5;34m102,778\u001b[0m (401.48 KB)\n"
            ],
            "text/html": [
              "<pre style=\"white-space:pre;overflow-x:auto;line-height:normal;font-family:Menlo,'DejaVu Sans Mono',consolas,'Courier New',monospace\"><span style=\"font-weight: bold\"> Optimizer params: </span><span style=\"color: #00af00; text-decoration-color: #00af00\">102,778</span> (401.48 KB)\n",
              "</pre>\n"
            ]
          },
          "metadata": {}
        }
      ]
    },
    {
      "cell_type": "code",
      "source": [
        "model.evaluate(x_test,y_test)"
      ],
      "metadata": {
        "colab": {
          "base_uri": "https://localhost:8080/"
        },
        "id": "Vv1WPlm1_hhC",
        "outputId": "02b92142-849d-4be8-cc11-5269afe30d6b"
      },
      "execution_count": 33,
      "outputs": [
        {
          "output_type": "stream",
          "name": "stdout",
          "text": [
            "\u001b[1m105/105\u001b[0m \u001b[32m━━━━━━━━━━━━━━━━━━━━\u001b[0m\u001b[37m\u001b[0m \u001b[1m2s\u001b[0m 19ms/step - accuracy: 0.9107 - loss: 0.3214\n"
          ]
        },
        {
          "output_type": "execute_result",
          "data": {
            "text/plain": [
              "[0.30670586228370667, 0.9154762029647827]"
            ]
          },
          "metadata": {},
          "execution_count": 33
        }
      ]
    },
    {
      "cell_type": "code",
      "source": [
        "from tensorflow.keras.preprocessing.image import ImageDataGenerator\n"
      ],
      "metadata": {
        "id": "P4XEzG3qAJVF"
      },
      "execution_count": 34,
      "outputs": []
    },
    {
      "cell_type": "code",
      "source": [
        "epochs = 100\n",
        "batch_size = 32\n",
        "\n",
        "# Build a training image generator for data augmentation\n",
        "datagen = ImageDataGenerator(\n",
        "    featurewise_center=False,  # Do not set the mean of the dataset to 0\n",
        "    samplewise_center=False,   # Do not set the mean of each sample to 0\n",
        "    featurewise_std_normalization=False,  # Do not divide inputs by dataset std\n",
        "    samplewise_std_normalization=False,   # Do not divide each input by its std\n",
        "    zca_whitening=False,       # Do not apply ZCA whitening\n",
        "    rotation_range=10,         # Randomly rotate images within a range (degrees)\n",
        "    zoom_range=0.1,            # Random zoom on images\n",
        "    width_shift_range=0.1,     # Random horizontal shift (fraction of total width)\n",
        "    height_shift_range=0.1,    # Random vertical shift (fraction of total height)\n",
        "    horizontal_flip=False,     # Do not randomly flip images horizontally\n",
        "    vertical_flip=False        # Do not randomly flip images vertically\n",
        ")\n"
      ],
      "metadata": {
        "id": "XWY_x_36BGQJ"
      },
      "execution_count": 35,
      "outputs": []
    },
    {
      "cell_type": "code",
      "source": [
        "train_gen = datagen.flow(x_train, y_train, batch_size=batch_size)\n",
        "test_gen = datagen.flow(x_test, y_test, batch_size=batch_size)"
      ],
      "metadata": {
        "id": "_JdiiTbuBJ8b"
      },
      "execution_count": 36,
      "outputs": []
    },
    {
      "cell_type": "code",
      "source": [
        "history = model.fit(train_gen, epochs=epochs,\n",
        "                             steps_per_epoch=x_train.shape[0]//batch_size,\n",
        "                             validation_data=test_gen,\n",
        "                             validation_steps=x_test.shape[0]//batch_size)"
      ],
      "metadata": {
        "colab": {
          "base_uri": "https://localhost:8080/"
        },
        "id": "0RHYr9oTBOfe",
        "outputId": "75e14284-3240-4587-f01f-40d35a886f28"
      },
      "execution_count": 37,
      "outputs": [
        {
          "output_type": "stream",
          "name": "stdout",
          "text": [
            "Epoch 1/100\n"
          ]
        },
        {
          "output_type": "stream",
          "name": "stderr",
          "text": [
            "/usr/local/lib/python3.11/dist-packages/keras/src/trainers/data_adapters/py_dataset_adapter.py:121: UserWarning: Your `PyDataset` class should call `super().__init__(**kwargs)` in its constructor. `**kwargs` can include `workers`, `use_multiprocessing`, `max_queue_size`. Do not pass these arguments to `fit()`, as they will be ignored.\n",
            "  self._warn_if_super_not_called()\n"
          ]
        },
        {
          "output_type": "stream",
          "name": "stdout",
          "text": [
            "\u001b[1m420/420\u001b[0m \u001b[32m━━━━━━━━━━━━━━━━━━━━\u001b[0m\u001b[37m\u001b[0m \u001b[1m29s\u001b[0m 65ms/step - accuracy: 0.7435 - loss: 0.8550 - val_accuracy: 0.8438 - val_loss: 0.5559\n",
            "Epoch 2/100\n",
            "\u001b[1m420/420\u001b[0m \u001b[32m━━━━━━━━━━━━━━━━━━━━\u001b[0m\u001b[37m\u001b[0m \u001b[1m40s\u001b[0m 64ms/step - accuracy: 0.7727 - loss: 0.7417 - val_accuracy: 0.8545 - val_loss: 0.4965\n",
            "Epoch 3/100\n",
            "\u001b[1m420/420\u001b[0m \u001b[32m━━━━━━━━━━━━━━━━━━━━\u001b[0m\u001b[37m\u001b[0m \u001b[1m27s\u001b[0m 64ms/step - accuracy: 0.8037 - loss: 0.6517 - val_accuracy: 0.8601 - val_loss: 0.4911\n",
            "Epoch 4/100\n",
            "\u001b[1m420/420\u001b[0m \u001b[32m━━━━━━━━━━━━━━━━━━━━\u001b[0m\u001b[37m\u001b[0m \u001b[1m26s\u001b[0m 62ms/step - accuracy: 0.8052 - loss: 0.6310 - val_accuracy: 0.8667 - val_loss: 0.4693\n",
            "Epoch 5/100\n",
            "\u001b[1m420/420\u001b[0m \u001b[32m━━━━━━━━━━━━━━━━━━━━\u001b[0m\u001b[37m\u001b[0m \u001b[1m42s\u001b[0m 65ms/step - accuracy: 0.8124 - loss: 0.6074 - val_accuracy: 0.8699 - val_loss: 0.4559\n",
            "Epoch 6/100\n",
            "\u001b[1m420/420\u001b[0m \u001b[32m━━━━━━━━━━━━━━━━━━━━\u001b[0m\u001b[37m\u001b[0m \u001b[1m41s\u001b[0m 64ms/step - accuracy: 0.8217 - loss: 0.5740 - val_accuracy: 0.8863 - val_loss: 0.4063\n",
            "Epoch 7/100\n",
            "\u001b[1m420/420\u001b[0m \u001b[32m━━━━━━━━━━━━━━━━━━━━\u001b[0m\u001b[37m\u001b[0m \u001b[1m40s\u001b[0m 62ms/step - accuracy: 0.8291 - loss: 0.5464 - val_accuracy: 0.8854 - val_loss: 0.4015\n",
            "Epoch 8/100\n",
            "\u001b[1m420/420\u001b[0m \u001b[32m━━━━━━━━━━━━━━━━━━━━\u001b[0m\u001b[37m\u001b[0m \u001b[1m24s\u001b[0m 57ms/step - accuracy: 0.8315 - loss: 0.5474 - val_accuracy: 0.8932 - val_loss: 0.4026\n",
            "Epoch 9/100\n",
            "\u001b[1m420/420\u001b[0m \u001b[32m━━━━━━━━━━━━━━━━━━━━\u001b[0m\u001b[37m\u001b[0m \u001b[1m26s\u001b[0m 63ms/step - accuracy: 0.8385 - loss: 0.5226 - val_accuracy: 0.8869 - val_loss: 0.3771\n",
            "Epoch 10/100\n",
            "\u001b[1m420/420\u001b[0m \u001b[32m━━━━━━━━━━━━━━━━━━━━\u001b[0m\u001b[37m\u001b[0m \u001b[1m27s\u001b[0m 64ms/step - accuracy: 0.8428 - loss: 0.4992 - val_accuracy: 0.9027 - val_loss: 0.3571\n",
            "Epoch 11/100\n",
            "\u001b[1m420/420\u001b[0m \u001b[32m━━━━━━━━━━━━━━━━━━━━\u001b[0m\u001b[37m\u001b[0m \u001b[1m40s\u001b[0m 63ms/step - accuracy: 0.8400 - loss: 0.5002 - val_accuracy: 0.8935 - val_loss: 0.3653\n",
            "Epoch 12/100\n",
            "\u001b[1m420/420\u001b[0m \u001b[32m━━━━━━━━━━━━━━━━━━━━\u001b[0m\u001b[37m\u001b[0m \u001b[1m40s\u001b[0m 62ms/step - accuracy: 0.8497 - loss: 0.4832 - val_accuracy: 0.8985 - val_loss: 0.3556\n",
            "Epoch 13/100\n",
            "\u001b[1m420/420\u001b[0m \u001b[32m━━━━━━━━━━━━━━━━━━━━\u001b[0m\u001b[37m\u001b[0m \u001b[1m26s\u001b[0m 63ms/step - accuracy: 0.8421 - loss: 0.4923 - val_accuracy: 0.9024 - val_loss: 0.3358\n",
            "Epoch 14/100\n",
            "\u001b[1m420/420\u001b[0m \u001b[32m━━━━━━━━━━━━━━━━━━━━\u001b[0m\u001b[37m\u001b[0m \u001b[1m41s\u001b[0m 63ms/step - accuracy: 0.8550 - loss: 0.4593 - val_accuracy: 0.8929 - val_loss: 0.3493\n",
            "Epoch 15/100\n",
            "\u001b[1m420/420\u001b[0m \u001b[32m━━━━━━━━━━━━━━━━━━━━\u001b[0m\u001b[37m\u001b[0m \u001b[1m27s\u001b[0m 64ms/step - accuracy: 0.8546 - loss: 0.4596 - val_accuracy: 0.9062 - val_loss: 0.3228\n",
            "Epoch 16/100\n",
            "\u001b[1m420/420\u001b[0m \u001b[32m━━━━━━━━━━━━━━━━━━━━\u001b[0m\u001b[37m\u001b[0m \u001b[1m28s\u001b[0m 67ms/step - accuracy: 0.8565 - loss: 0.4542 - val_accuracy: 0.9018 - val_loss: 0.3356\n",
            "Epoch 17/100\n",
            "\u001b[1m420/420\u001b[0m \u001b[32m━━━━━━━━━━━━━━━━━━━━\u001b[0m\u001b[37m\u001b[0m \u001b[1m27s\u001b[0m 65ms/step - accuracy: 0.8646 - loss: 0.4288 - val_accuracy: 0.9095 - val_loss: 0.3144\n",
            "Epoch 18/100\n",
            "\u001b[1m420/420\u001b[0m \u001b[32m━━━━━━━━━━━━━━━━━━━━\u001b[0m\u001b[37m\u001b[0m \u001b[1m25s\u001b[0m 59ms/step - accuracy: 0.8644 - loss: 0.4266 - val_accuracy: 0.9149 - val_loss: 0.3018\n",
            "Epoch 19/100\n",
            "\u001b[1m420/420\u001b[0m \u001b[32m━━━━━━━━━━━━━━━━━━━━\u001b[0m\u001b[37m\u001b[0m \u001b[1m42s\u001b[0m 61ms/step - accuracy: 0.8599 - loss: 0.4413 - val_accuracy: 0.9116 - val_loss: 0.2909\n",
            "Epoch 20/100\n",
            "\u001b[1m420/420\u001b[0m \u001b[32m━━━━━━━━━━━━━━━━━━━━\u001b[0m\u001b[37m\u001b[0m \u001b[1m42s\u001b[0m 64ms/step - accuracy: 0.8636 - loss: 0.4246 - val_accuracy: 0.8961 - val_loss: 0.3341\n",
            "Epoch 21/100\n",
            "\u001b[1m420/420\u001b[0m \u001b[32m━━━━━━━━━━━━━━━━━━━━\u001b[0m\u001b[37m\u001b[0m \u001b[1m40s\u001b[0m 62ms/step - accuracy: 0.8640 - loss: 0.4256 - val_accuracy: 0.9253 - val_loss: 0.2733\n",
            "Epoch 22/100\n",
            "\u001b[1m420/420\u001b[0m \u001b[32m━━━━━━━━━━━━━━━━━━━━\u001b[0m\u001b[37m\u001b[0m \u001b[1m24s\u001b[0m 58ms/step - accuracy: 0.8679 - loss: 0.4061 - val_accuracy: 0.9190 - val_loss: 0.2793\n",
            "Epoch 23/100\n",
            "\u001b[1m420/420\u001b[0m \u001b[32m━━━━━━━━━━━━━━━━━━━━\u001b[0m\u001b[37m\u001b[0m \u001b[1m44s\u001b[0m 64ms/step - accuracy: 0.8684 - loss: 0.4123 - val_accuracy: 0.9238 - val_loss: 0.2660\n",
            "Epoch 24/100\n",
            "\u001b[1m420/420\u001b[0m \u001b[32m━━━━━━━━━━━━━━━━━━━━\u001b[0m\u001b[37m\u001b[0m \u001b[1m24s\u001b[0m 58ms/step - accuracy: 0.8758 - loss: 0.3884 - val_accuracy: 0.9229 - val_loss: 0.2556\n",
            "Epoch 25/100\n",
            "\u001b[1m420/420\u001b[0m \u001b[32m━━━━━━━━━━━━━━━━━━━━\u001b[0m\u001b[37m\u001b[0m \u001b[1m25s\u001b[0m 60ms/step - accuracy: 0.8704 - loss: 0.3966 - val_accuracy: 0.9176 - val_loss: 0.2785\n",
            "Epoch 26/100\n",
            "\u001b[1m420/420\u001b[0m \u001b[32m━━━━━━━━━━━━━━━━━━━━\u001b[0m\u001b[37m\u001b[0m \u001b[1m41s\u001b[0m 60ms/step - accuracy: 0.8802 - loss: 0.3748 - val_accuracy: 0.9244 - val_loss: 0.2474\n",
            "Epoch 27/100\n",
            "\u001b[1m420/420\u001b[0m \u001b[32m━━━━━━━━━━━━━━━━━━━━\u001b[0m\u001b[37m\u001b[0m \u001b[1m26s\u001b[0m 63ms/step - accuracy: 0.8866 - loss: 0.3577 - val_accuracy: 0.9274 - val_loss: 0.2469\n",
            "Epoch 28/100\n",
            "\u001b[1m420/420\u001b[0m \u001b[32m━━━━━━━━━━━━━━━━━━━━\u001b[0m\u001b[37m\u001b[0m \u001b[1m26s\u001b[0m 61ms/step - accuracy: 0.8760 - loss: 0.3846 - val_accuracy: 0.9211 - val_loss: 0.2706\n",
            "Epoch 29/100\n",
            "\u001b[1m420/420\u001b[0m \u001b[32m━━━━━━━━━━━━━━━━━━━━\u001b[0m\u001b[37m\u001b[0m \u001b[1m27s\u001b[0m 64ms/step - accuracy: 0.8768 - loss: 0.3883 - val_accuracy: 0.9235 - val_loss: 0.2420\n",
            "Epoch 30/100\n",
            "\u001b[1m420/420\u001b[0m \u001b[32m━━━━━━━━━━━━━━━━━━━━\u001b[0m\u001b[37m\u001b[0m \u001b[1m41s\u001b[0m 66ms/step - accuracy: 0.8820 - loss: 0.3726 - val_accuracy: 0.9298 - val_loss: 0.2628\n",
            "Epoch 31/100\n",
            "\u001b[1m420/420\u001b[0m \u001b[32m━━━━━━━━━━━━━━━━━━━━\u001b[0m\u001b[37m\u001b[0m \u001b[1m41s\u001b[0m 65ms/step - accuracy: 0.8863 - loss: 0.3532 - val_accuracy: 0.9283 - val_loss: 0.2493\n",
            "Epoch 32/100\n",
            "\u001b[1m420/420\u001b[0m \u001b[32m━━━━━━━━━━━━━━━━━━━━\u001b[0m\u001b[37m\u001b[0m \u001b[1m40s\u001b[0m 63ms/step - accuracy: 0.8882 - loss: 0.3456 - val_accuracy: 0.9295 - val_loss: 0.2408\n",
            "Epoch 33/100\n",
            "\u001b[1m420/420\u001b[0m \u001b[32m━━━━━━━━━━━━━━━━━━━━\u001b[0m\u001b[37m\u001b[0m \u001b[1m24s\u001b[0m 58ms/step - accuracy: 0.8858 - loss: 0.3532 - val_accuracy: 0.9315 - val_loss: 0.2419\n",
            "Epoch 34/100\n",
            "\u001b[1m420/420\u001b[0m \u001b[32m━━━━━━━━━━━━━━━━━━━━\u001b[0m\u001b[37m\u001b[0m \u001b[1m44s\u001b[0m 65ms/step - accuracy: 0.8876 - loss: 0.3527 - val_accuracy: 0.9315 - val_loss: 0.2344\n",
            "Epoch 35/100\n",
            "\u001b[1m420/420\u001b[0m \u001b[32m━━━━━━━━━━━━━━━━━━━━\u001b[0m\u001b[37m\u001b[0m \u001b[1m24s\u001b[0m 58ms/step - accuracy: 0.8955 - loss: 0.3341 - val_accuracy: 0.9286 - val_loss: 0.2554\n",
            "Epoch 36/100\n",
            "\u001b[1m420/420\u001b[0m \u001b[32m━━━━━━━━━━━━━━━━━━━━\u001b[0m\u001b[37m\u001b[0m \u001b[1m44s\u001b[0m 65ms/step - accuracy: 0.8860 - loss: 0.3606 - val_accuracy: 0.9351 - val_loss: 0.2408\n",
            "Epoch 37/100\n",
            "\u001b[1m420/420\u001b[0m \u001b[32m━━━━━━━━━━━━━━━━━━━━\u001b[0m\u001b[37m\u001b[0m \u001b[1m40s\u001b[0m 62ms/step - accuracy: 0.8931 - loss: 0.3423 - val_accuracy: 0.9283 - val_loss: 0.2500\n",
            "Epoch 38/100\n",
            "\u001b[1m420/420\u001b[0m \u001b[32m━━━━━━━━━━━━━━━━━━━━\u001b[0m\u001b[37m\u001b[0m \u001b[1m42s\u001b[0m 64ms/step - accuracy: 0.8925 - loss: 0.3328 - val_accuracy: 0.9351 - val_loss: 0.2302\n",
            "Epoch 39/100\n",
            "\u001b[1m420/420\u001b[0m \u001b[32m━━━━━━━━━━━━━━━━━━━━\u001b[0m\u001b[37m\u001b[0m \u001b[1m24s\u001b[0m 58ms/step - accuracy: 0.8924 - loss: 0.3491 - val_accuracy: 0.9363 - val_loss: 0.2354\n",
            "Epoch 40/100\n",
            "\u001b[1m420/420\u001b[0m \u001b[32m━━━━━━━━━━━━━━━━━━━━\u001b[0m\u001b[37m\u001b[0m \u001b[1m43s\u001b[0m 62ms/step - accuracy: 0.8940 - loss: 0.3375 - val_accuracy: 0.9393 - val_loss: 0.2244\n",
            "Epoch 41/100\n",
            "\u001b[1m420/420\u001b[0m \u001b[32m━━━━━━━━━━━━━━━━━━━━\u001b[0m\u001b[37m\u001b[0m \u001b[1m41s\u001b[0m 62ms/step - accuracy: 0.8931 - loss: 0.3407 - val_accuracy: 0.9324 - val_loss: 0.2324\n",
            "Epoch 42/100\n",
            "\u001b[1m420/420\u001b[0m \u001b[32m━━━━━━━━━━━━━━━━━━━━\u001b[0m\u001b[37m\u001b[0m \u001b[1m42s\u001b[0m 64ms/step - accuracy: 0.8931 - loss: 0.3236 - val_accuracy: 0.9390 - val_loss: 0.2216\n",
            "Epoch 43/100\n",
            "\u001b[1m420/420\u001b[0m \u001b[32m━━━━━━━━━━━━━━━━━━━━\u001b[0m\u001b[37m\u001b[0m \u001b[1m40s\u001b[0m 61ms/step - accuracy: 0.8969 - loss: 0.3339 - val_accuracy: 0.9324 - val_loss: 0.2271\n",
            "Epoch 44/100\n",
            "\u001b[1m420/420\u001b[0m \u001b[32m━━━━━━━━━━━━━━━━━━━━\u001b[0m\u001b[37m\u001b[0m \u001b[1m41s\u001b[0m 62ms/step - accuracy: 0.8960 - loss: 0.3299 - val_accuracy: 0.9283 - val_loss: 0.2401\n",
            "Epoch 45/100\n",
            "\u001b[1m420/420\u001b[0m \u001b[32m━━━━━━━━━━━━━━━━━━━━\u001b[0m\u001b[37m\u001b[0m \u001b[1m41s\u001b[0m 62ms/step - accuracy: 0.8976 - loss: 0.3256 - val_accuracy: 0.9357 - val_loss: 0.2213\n",
            "Epoch 46/100\n",
            "\u001b[1m420/420\u001b[0m \u001b[32m━━━━━━━━━━━━━━━━━━━━\u001b[0m\u001b[37m\u001b[0m \u001b[1m41s\u001b[0m 62ms/step - accuracy: 0.8985 - loss: 0.3223 - val_accuracy: 0.9342 - val_loss: 0.2297\n",
            "Epoch 47/100\n",
            "\u001b[1m420/420\u001b[0m \u001b[32m━━━━━━━━━━━━━━━━━━━━\u001b[0m\u001b[37m\u001b[0m \u001b[1m25s\u001b[0m 59ms/step - accuracy: 0.8991 - loss: 0.3193 - val_accuracy: 0.9372 - val_loss: 0.2184\n",
            "Epoch 48/100\n",
            "\u001b[1m420/420\u001b[0m \u001b[32m━━━━━━━━━━━━━━━━━━━━\u001b[0m\u001b[37m\u001b[0m \u001b[1m44s\u001b[0m 66ms/step - accuracy: 0.9014 - loss: 0.3086 - val_accuracy: 0.9396 - val_loss: 0.2043\n",
            "Epoch 49/100\n",
            "\u001b[1m420/420\u001b[0m \u001b[32m━━━━━━━━━━━━━━━━━━━━\u001b[0m\u001b[37m\u001b[0m \u001b[1m39s\u001b[0m 61ms/step - accuracy: 0.9039 - loss: 0.3071 - val_accuracy: 0.9417 - val_loss: 0.1998\n",
            "Epoch 50/100\n",
            "\u001b[1m420/420\u001b[0m \u001b[32m━━━━━━━━━━━━━━━━━━━━\u001b[0m\u001b[37m\u001b[0m \u001b[1m41s\u001b[0m 62ms/step - accuracy: 0.9036 - loss: 0.3028 - val_accuracy: 0.9417 - val_loss: 0.2117\n",
            "Epoch 51/100\n",
            "\u001b[1m420/420\u001b[0m \u001b[32m━━━━━━━━━━━━━━━━━━━━\u001b[0m\u001b[37m\u001b[0m \u001b[1m42s\u001b[0m 64ms/step - accuracy: 0.9042 - loss: 0.3050 - val_accuracy: 0.9357 - val_loss: 0.2181\n",
            "Epoch 52/100\n",
            "\u001b[1m420/420\u001b[0m \u001b[32m━━━━━━━━━━━━━━━━━━━━\u001b[0m\u001b[37m\u001b[0m \u001b[1m27s\u001b[0m 65ms/step - accuracy: 0.9018 - loss: 0.3033 - val_accuracy: 0.9443 - val_loss: 0.1969\n",
            "Epoch 53/100\n",
            "\u001b[1m420/420\u001b[0m \u001b[32m━━━━━━━━━━━━━━━━━━━━\u001b[0m\u001b[37m\u001b[0m \u001b[1m41s\u001b[0m 64ms/step - accuracy: 0.8994 - loss: 0.3208 - val_accuracy: 0.9396 - val_loss: 0.2080\n",
            "Epoch 54/100\n",
            "\u001b[1m420/420\u001b[0m \u001b[32m━━━━━━━━━━━━━━━━━━━━\u001b[0m\u001b[37m\u001b[0m \u001b[1m41s\u001b[0m 65ms/step - accuracy: 0.9032 - loss: 0.3085 - val_accuracy: 0.9363 - val_loss: 0.2131\n",
            "Epoch 55/100\n",
            "\u001b[1m420/420\u001b[0m \u001b[32m━━━━━━━━━━━━━━━━━━━━\u001b[0m\u001b[37m\u001b[0m \u001b[1m40s\u001b[0m 62ms/step - accuracy: 0.9071 - loss: 0.3022 - val_accuracy: 0.9372 - val_loss: 0.2185\n",
            "Epoch 56/100\n",
            "\u001b[1m420/420\u001b[0m \u001b[32m━━━━━━━━━━━━━━━━━━━━\u001b[0m\u001b[37m\u001b[0m \u001b[1m24s\u001b[0m 58ms/step - accuracy: 0.9031 - loss: 0.3036 - val_accuracy: 0.9396 - val_loss: 0.2111\n",
            "Epoch 57/100\n",
            "\u001b[1m420/420\u001b[0m \u001b[32m━━━━━━━━━━━━━━━━━━━━\u001b[0m\u001b[37m\u001b[0m \u001b[1m26s\u001b[0m 62ms/step - accuracy: 0.9060 - loss: 0.2972 - val_accuracy: 0.9420 - val_loss: 0.2032\n",
            "Epoch 58/100\n",
            "\u001b[1m420/420\u001b[0m \u001b[32m━━━━━━━━━━━━━━━━━━━━\u001b[0m\u001b[37m\u001b[0m \u001b[1m41s\u001b[0m 62ms/step - accuracy: 0.9028 - loss: 0.2904 - val_accuracy: 0.9384 - val_loss: 0.2183\n",
            "Epoch 59/100\n",
            "\u001b[1m420/420\u001b[0m \u001b[32m━━━━━━━━━━━━━━━━━━━━\u001b[0m\u001b[37m\u001b[0m \u001b[1m26s\u001b[0m 61ms/step - accuracy: 0.9060 - loss: 0.2982 - val_accuracy: 0.9417 - val_loss: 0.2098\n",
            "Epoch 60/100\n",
            "\u001b[1m420/420\u001b[0m \u001b[32m━━━━━━━━━━━━━━━━━━━━\u001b[0m\u001b[37m\u001b[0m \u001b[1m26s\u001b[0m 61ms/step - accuracy: 0.9045 - loss: 0.2961 - val_accuracy: 0.9423 - val_loss: 0.2018\n",
            "Epoch 61/100\n",
            "\u001b[1m420/420\u001b[0m \u001b[32m━━━━━━━━━━━━━━━━━━━━\u001b[0m\u001b[37m\u001b[0m \u001b[1m25s\u001b[0m 59ms/step - accuracy: 0.9052 - loss: 0.2918 - val_accuracy: 0.9336 - val_loss: 0.2248\n",
            "Epoch 62/100\n",
            "\u001b[1m420/420\u001b[0m \u001b[32m━━━━━━━━━━━━━━━━━━━━\u001b[0m\u001b[37m\u001b[0m \u001b[1m25s\u001b[0m 61ms/step - accuracy: 0.9067 - loss: 0.2926 - val_accuracy: 0.9390 - val_loss: 0.2184\n",
            "Epoch 63/100\n",
            "\u001b[1m420/420\u001b[0m \u001b[32m━━━━━━━━━━━━━━━━━━━━\u001b[0m\u001b[37m\u001b[0m \u001b[1m41s\u001b[0m 60ms/step - accuracy: 0.9109 - loss: 0.2718 - val_accuracy: 0.9399 - val_loss: 0.2149\n",
            "Epoch 64/100\n",
            "\u001b[1m420/420\u001b[0m \u001b[32m━━━━━━━━━━━━━━━━━━━━\u001b[0m\u001b[37m\u001b[0m \u001b[1m26s\u001b[0m 61ms/step - accuracy: 0.9068 - loss: 0.3005 - val_accuracy: 0.9369 - val_loss: 0.2010\n",
            "Epoch 65/100\n",
            "\u001b[1m420/420\u001b[0m \u001b[32m━━━━━━━━━━━━━━━━━━━━\u001b[0m\u001b[37m\u001b[0m \u001b[1m26s\u001b[0m 62ms/step - accuracy: 0.9075 - loss: 0.2866 - val_accuracy: 0.9399 - val_loss: 0.2074\n",
            "Epoch 66/100\n",
            "\u001b[1m420/420\u001b[0m \u001b[32m━━━━━━━━━━━━━━━━━━━━\u001b[0m\u001b[37m\u001b[0m \u001b[1m27s\u001b[0m 65ms/step - accuracy: 0.9042 - loss: 0.2840 - val_accuracy: 0.9417 - val_loss: 0.2039\n",
            "Epoch 67/100\n",
            "\u001b[1m420/420\u001b[0m \u001b[32m━━━━━━━━━━━━━━━━━━━━\u001b[0m\u001b[37m\u001b[0m \u001b[1m41s\u001b[0m 65ms/step - accuracy: 0.9167 - loss: 0.2630 - val_accuracy: 0.9378 - val_loss: 0.2073\n",
            "Epoch 68/100\n",
            "\u001b[1m420/420\u001b[0m \u001b[32m━━━━━━━━━━━━━━━━━━━━\u001b[0m\u001b[37m\u001b[0m \u001b[1m41s\u001b[0m 66ms/step - accuracy: 0.8992 - loss: 0.3101 - val_accuracy: 0.9333 - val_loss: 0.2188\n",
            "Epoch 69/100\n",
            "\u001b[1m420/420\u001b[0m \u001b[32m━━━━━━━━━━━━━━━━━━━━\u001b[0m\u001b[37m\u001b[0m \u001b[1m27s\u001b[0m 65ms/step - accuracy: 0.9035 - loss: 0.2998 - val_accuracy: 0.9339 - val_loss: 0.2240\n",
            "Epoch 70/100\n",
            "\u001b[1m420/420\u001b[0m \u001b[32m━━━━━━━━━━━━━━━━━━━━\u001b[0m\u001b[37m\u001b[0m \u001b[1m39s\u001b[0m 60ms/step - accuracy: 0.9071 - loss: 0.2832 - val_accuracy: 0.9399 - val_loss: 0.2059\n",
            "Epoch 71/100\n",
            "\u001b[1m420/420\u001b[0m \u001b[32m━━━━━━━━━━━━━━━━━━━━\u001b[0m\u001b[37m\u001b[0m \u001b[1m24s\u001b[0m 58ms/step - accuracy: 0.9116 - loss: 0.2872 - val_accuracy: 0.9452 - val_loss: 0.1893\n",
            "Epoch 72/100\n",
            "\u001b[1m420/420\u001b[0m \u001b[32m━━━━━━━━━━━━━━━━━━━━\u001b[0m\u001b[37m\u001b[0m \u001b[1m26s\u001b[0m 61ms/step - accuracy: 0.9113 - loss: 0.2813 - val_accuracy: 0.9449 - val_loss: 0.1844\n",
            "Epoch 73/100\n",
            "\u001b[1m420/420\u001b[0m \u001b[32m━━━━━━━━━━━━━━━━━━━━\u001b[0m\u001b[37m\u001b[0m \u001b[1m42s\u001b[0m 63ms/step - accuracy: 0.9090 - loss: 0.2782 - val_accuracy: 0.9452 - val_loss: 0.1935\n",
            "Epoch 74/100\n",
            "\u001b[1m420/420\u001b[0m \u001b[32m━━━━━━━━━━━━━━━━━━━━\u001b[0m\u001b[37m\u001b[0m \u001b[1m26s\u001b[0m 63ms/step - accuracy: 0.9103 - loss: 0.2804 - val_accuracy: 0.9452 - val_loss: 0.1868\n",
            "Epoch 75/100\n",
            "\u001b[1m420/420\u001b[0m \u001b[32m━━━━━━━━━━━━━━━━━━━━\u001b[0m\u001b[37m\u001b[0m \u001b[1m41s\u001b[0m 62ms/step - accuracy: 0.9151 - loss: 0.2724 - val_accuracy: 0.9438 - val_loss: 0.1985\n",
            "Epoch 76/100\n",
            "\u001b[1m420/420\u001b[0m \u001b[32m━━━━━━━━━━━━━━━━━━━━\u001b[0m\u001b[37m\u001b[0m \u001b[1m26s\u001b[0m 62ms/step - accuracy: 0.9158 - loss: 0.2715 - val_accuracy: 0.9438 - val_loss: 0.1949\n",
            "Epoch 77/100\n",
            "\u001b[1m420/420\u001b[0m \u001b[32m━━━━━━━━━━━━━━━━━━━━\u001b[0m\u001b[37m\u001b[0m \u001b[1m42s\u001b[0m 66ms/step - accuracy: 0.9141 - loss: 0.2812 - val_accuracy: 0.9423 - val_loss: 0.1891\n",
            "Epoch 78/100\n",
            "\u001b[1m420/420\u001b[0m \u001b[32m━━━━━━━━━━━━━━━━━━━━\u001b[0m\u001b[37m\u001b[0m \u001b[1m27s\u001b[0m 65ms/step - accuracy: 0.9130 - loss: 0.2714 - val_accuracy: 0.9488 - val_loss: 0.1828\n",
            "Epoch 79/100\n",
            "\u001b[1m420/420\u001b[0m \u001b[32m━━━━━━━━━━━━━━━━━━━━\u001b[0m\u001b[37m\u001b[0m \u001b[1m39s\u001b[0m 61ms/step - accuracy: 0.9149 - loss: 0.2671 - val_accuracy: 0.9423 - val_loss: 0.1873\n",
            "Epoch 80/100\n",
            "\u001b[1m420/420\u001b[0m \u001b[32m━━━━━━━━━━━━━━━━━━━━\u001b[0m\u001b[37m\u001b[0m \u001b[1m41s\u001b[0m 62ms/step - accuracy: 0.9181 - loss: 0.2637 - val_accuracy: 0.9417 - val_loss: 0.2165\n",
            "Epoch 81/100\n",
            "\u001b[1m420/420\u001b[0m \u001b[32m━━━━━━━━━━━━━━━━━━━━\u001b[0m\u001b[37m\u001b[0m \u001b[1m42s\u001b[0m 64ms/step - accuracy: 0.9164 - loss: 0.2672 - val_accuracy: 0.9438 - val_loss: 0.1878\n",
            "Epoch 82/100\n",
            "\u001b[1m420/420\u001b[0m \u001b[32m━━━━━━━━━━━━━━━━━━━━\u001b[0m\u001b[37m\u001b[0m \u001b[1m27s\u001b[0m 65ms/step - accuracy: 0.9139 - loss: 0.2742 - val_accuracy: 0.9470 - val_loss: 0.1913\n",
            "Epoch 83/100\n",
            "\u001b[1m420/420\u001b[0m \u001b[32m━━━━━━━━━━━━━━━━━━━━\u001b[0m\u001b[37m\u001b[0m \u001b[1m28s\u001b[0m 65ms/step - accuracy: 0.9137 - loss: 0.2761 - val_accuracy: 0.9420 - val_loss: 0.1898\n",
            "Epoch 84/100\n",
            "\u001b[1m420/420\u001b[0m \u001b[32m━━━━━━━━━━━━━━━━━━━━\u001b[0m\u001b[37m\u001b[0m \u001b[1m28s\u001b[0m 66ms/step - accuracy: 0.9148 - loss: 0.2611 - val_accuracy: 0.9461 - val_loss: 0.1816\n",
            "Epoch 85/100\n",
            "\u001b[1m420/420\u001b[0m \u001b[32m━━━━━━━━━━━━━━━━━━━━\u001b[0m\u001b[37m\u001b[0m \u001b[1m28s\u001b[0m 66ms/step - accuracy: 0.9161 - loss: 0.2686 - val_accuracy: 0.9417 - val_loss: 0.2001\n",
            "Epoch 86/100\n",
            "\u001b[1m420/420\u001b[0m \u001b[32m━━━━━━━━━━━━━━━━━━━━\u001b[0m\u001b[37m\u001b[0m \u001b[1m38s\u001b[0m 60ms/step - accuracy: 0.9180 - loss: 0.2564 - val_accuracy: 0.9446 - val_loss: 0.1848\n",
            "Epoch 87/100\n",
            "\u001b[1m420/420\u001b[0m \u001b[32m━━━━━━━━━━━━━━━━━━━━\u001b[0m\u001b[37m\u001b[0m \u001b[1m42s\u001b[0m 63ms/step - accuracy: 0.9148 - loss: 0.2749 - val_accuracy: 0.9455 - val_loss: 0.1786\n",
            "Epoch 88/100\n",
            "\u001b[1m420/420\u001b[0m \u001b[32m━━━━━━━━━━━━━━━━━━━━\u001b[0m\u001b[37m\u001b[0m \u001b[1m25s\u001b[0m 60ms/step - accuracy: 0.9145 - loss: 0.2691 - val_accuracy: 0.9470 - val_loss: 0.1834\n",
            "Epoch 89/100\n",
            "\u001b[1m420/420\u001b[0m \u001b[32m━━━━━━━━━━━━━━━━━━━━\u001b[0m\u001b[37m\u001b[0m \u001b[1m26s\u001b[0m 61ms/step - accuracy: 0.9128 - loss: 0.2728 - val_accuracy: 0.9446 - val_loss: 0.1821\n",
            "Epoch 90/100\n",
            "\u001b[1m420/420\u001b[0m \u001b[32m━━━━━━━━━━━━━━━━━━━━\u001b[0m\u001b[37m\u001b[0m \u001b[1m41s\u001b[0m 61ms/step - accuracy: 0.9213 - loss: 0.2475 - val_accuracy: 0.9426 - val_loss: 0.1859\n",
            "Epoch 91/100\n",
            "\u001b[1m420/420\u001b[0m \u001b[32m━━━━━━━━━━━━━━━━━━━━\u001b[0m\u001b[37m\u001b[0m \u001b[1m27s\u001b[0m 63ms/step - accuracy: 0.9196 - loss: 0.2429 - val_accuracy: 0.9452 - val_loss: 0.1820\n",
            "Epoch 92/100\n",
            "\u001b[1m420/420\u001b[0m \u001b[32m━━━━━━━━━━━━━━━━━━━━\u001b[0m\u001b[37m\u001b[0m \u001b[1m41s\u001b[0m 63ms/step - accuracy: 0.9153 - loss: 0.2585 - val_accuracy: 0.9485 - val_loss: 0.1806\n",
            "Epoch 93/100\n",
            "\u001b[1m420/420\u001b[0m \u001b[32m━━━━━━━━━━━━━━━━━━━━\u001b[0m\u001b[37m\u001b[0m \u001b[1m41s\u001b[0m 63ms/step - accuracy: 0.9178 - loss: 0.2518 - val_accuracy: 0.9423 - val_loss: 0.1904\n",
            "Epoch 94/100\n",
            "\u001b[1m420/420\u001b[0m \u001b[32m━━━━━━━━━━━━━━━━━━━━\u001b[0m\u001b[37m\u001b[0m \u001b[1m41s\u001b[0m 63ms/step - accuracy: 0.9157 - loss: 0.2566 - val_accuracy: 0.9470 - val_loss: 0.1861\n",
            "Epoch 95/100\n",
            "\u001b[1m420/420\u001b[0m \u001b[32m━━━━━━━━━━━━━━━━━━━━\u001b[0m\u001b[37m\u001b[0m \u001b[1m41s\u001b[0m 64ms/step - accuracy: 0.9200 - loss: 0.2538 - val_accuracy: 0.9536 - val_loss: 0.1680\n",
            "Epoch 96/100\n",
            "\u001b[1m420/420\u001b[0m \u001b[32m━━━━━━━━━━━━━━━━━━━━\u001b[0m\u001b[37m\u001b[0m \u001b[1m40s\u001b[0m 63ms/step - accuracy: 0.9176 - loss: 0.2565 - val_accuracy: 0.9488 - val_loss: 0.1791\n",
            "Epoch 97/100\n",
            "\u001b[1m420/420\u001b[0m \u001b[32m━━━━━━━━━━━━━━━━━━━━\u001b[0m\u001b[37m\u001b[0m \u001b[1m27s\u001b[0m 63ms/step - accuracy: 0.9203 - loss: 0.2473 - val_accuracy: 0.9458 - val_loss: 0.1852\n",
            "Epoch 98/100\n",
            "\u001b[1m420/420\u001b[0m \u001b[32m━━━━━━━━━━━━━━━━━━━━\u001b[0m\u001b[37m\u001b[0m \u001b[1m42s\u001b[0m 65ms/step - accuracy: 0.9203 - loss: 0.2533 - val_accuracy: 0.9446 - val_loss: 0.1868\n",
            "Epoch 99/100\n",
            "\u001b[1m420/420\u001b[0m \u001b[32m━━━━━━━━━━━━━━━━━━━━\u001b[0m\u001b[37m\u001b[0m \u001b[1m25s\u001b[0m 60ms/step - accuracy: 0.9204 - loss: 0.2400 - val_accuracy: 0.9455 - val_loss: 0.1828\n",
            "Epoch 100/100\n",
            "\u001b[1m420/420\u001b[0m \u001b[32m━━━━━━━━━━━━━━━━━━━━\u001b[0m\u001b[37m\u001b[0m \u001b[1m43s\u001b[0m 65ms/step - accuracy: 0.9144 - loss: 0.2612 - val_accuracy: 0.9473 - val_loss: 0.1838\n"
          ]
        }
      ]
    },
    {
      "cell_type": "code",
      "source": [
        "import seaborn as sn\n",
        "from sklearn.metrics import confusion_matrix"
      ],
      "metadata": {
        "id": "Nj5A53vFDNeI"
      },
      "execution_count": 1,
      "outputs": []
    },
    {
      "cell_type": "code",
      "source": [
        "# Predict values from the validation set\n",
        "y_preds = model.predict(x_test)\n",
        "\n",
        "# Convert the prediction classes into one-hot vectors\n",
        "y_pred_classes = np.argmax(y_preds, axis=1)\n",
        "\n",
        "# Convert the validation observations into one-hot vectors\n",
        "y_true = np.argmax(y_test, axis=1)\n",
        "\n",
        "# Calculate the confusion matrix\n",
        "cm = confusion_matrix(y_true, y_pred_classes)\n",
        "\n",
        "# Plot the confusion matrix\n",
        "plt.figure(figsize=(10,10))\n",
        "sn.heatmap(cm, annot=True, fmt='d')\n",
        "plt.xlabel('Predicted')\n",
        "plt.ylabel('Truth')\n"
      ],
      "metadata": {
        "colab": {
          "base_uri": "https://localhost:8080/",
          "height": 891
        },
        "id": "IdhxE2ieDdU_",
        "outputId": "55fe0e53-4096-46ad-8dd6-fd79e667138c"
      },
      "execution_count": 38,
      "outputs": [
        {
          "output_type": "stream",
          "name": "stdout",
          "text": [
            "\u001b[1m105/105\u001b[0m \u001b[32m━━━━━━━━━━━━━━━━━━━━\u001b[0m\u001b[37m\u001b[0m \u001b[1m1s\u001b[0m 12ms/step\n"
          ]
        },
        {
          "output_type": "execute_result",
          "data": {
            "text/plain": [
              "Text(95.72222222222221, 0.5, 'Truth')"
            ]
          },
          "metadata": {},
          "execution_count": 38
        },
        {
          "output_type": "display_data",
          "data": {
            "text/plain": [
              "<Figure size 1000x1000 with 2 Axes>"
            ],
            "image/png": "[encoded data removed]"
          },
          "metadata": {}
        }
      ]
    },
    {
      "cell_type": "markdown",
      "source": [
        "**Handwriting recognition with openCV2**"
      ],
      "metadata": {
        "id": "ZcDQGlcdEYBy"
      }
    },
    {
      "cell_type": "code",
      "source": [
        "import argparse\n",
        "import imutils\n",
        "from imutils.contours import sort_contours\n",
        "import cv2 as cv\n",
        "from keras.models import load_model\n",
        "\n"
      ],
      "metadata": {
        "id": "KjQZ_tdoEk73"
      },
      "execution_count": 39,
      "outputs": []
    },
    {
      "cell_type": "code",
      "source": [
        "model.save(\"modelcharacters.h5\")"
      ],
      "metadata": {
        "colab": {
          "base_uri": "https://localhost:8080/"
        },
        "id": "H958g4gggwiJ",
        "outputId": "f5a26115-263c-4a4d-aa73-abcfc5945434"
      },
      "execution_count": 40,
      "outputs": [
        {
          "output_type": "stream",
          "name": "stderr",
          "text": [
            "WARNING:absl:You are saving your model as an HDF5 file via `model.save()` or `keras.saving.save_model(model)`. This file format is considered legacy. We recommend using instead the native Keras format, e.g. `model.save('my_model.keras')` or `keras.saving.save_model(model, 'my_model.keras')`. \n"
          ]
        }
      ]
    },
    {
      "cell_type": "code",
      "source": [
        "import numpy as np\n",
        "import matplotlib.pyplot as plt\n",
        "\n",
        "# Number of images to display\n",
        "num_images = 25\n",
        "plt.figure(figsize=(15, 15))\n",
        "\n",
        "for i in range(num_images):\n",
        "    plt.subplot(5, 5, i + 1)\n",
        "\n",
        "    # Reshape to 32x32 since input size is 1024\n",
        "    image = x_test[i].reshape(32, 32)\n",
        "\n",
        "    # Get true and predicted labels\n",
        "    true_label = class_labels[y_true[i]]\n",
        "    predicted_label = class_labels[y_pred_classes[i]]\n",
        "\n",
        "    # Display image with labels\n",
        "    plt.imshow(image, cmap='gray')\n",
        "    plt.title(f'True: {true_label}\\nPred: {predicted_label}')\n",
        "    plt.axis('off')\n",
        "\n",
        "plt.tight_layout()\n",
        "plt.show()\n",
        "\n"
      ],
      "metadata": {
        "colab": {
          "base_uri": "https://localhost:8080/",
          "height": 1000
        },
        "id": "8sFyyK_Si4h0",
        "outputId": "0d8abd7a-7f88-43b5-b181-2c5db982dc5b"
      },
      "execution_count": 43,
      "outputs": [
        {
          "output_type": "display_data",
          "data": {
            "text/plain": [
              "<Figure size 1500x1500 with 25 Axes>"
            ],
            "image/png": "[encoded data removed]"
          },
          "metadata": {}
        }
      ]
    }
  ]
}